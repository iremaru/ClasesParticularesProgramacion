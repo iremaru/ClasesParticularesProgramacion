{
 "cells": [
  {
   "cell_type": "markdown",
   "metadata": {},
   "source": [
    "# Variables\n",
    "\n",
    "- String    --> Cadena de caracteres\n",
    "- Int       --> Números enteros\n",
    "- Float     --> Números decimales\n",
    "- Boolean   --> Verdadero o falso\n",
    "\n",
    "> 👆🏻 Recuerda que los decimales en programación se declaran con puntos (✅5.2) y no con comas (❌5.2)"
   ]
  },
  {
   "cell_type": "code",
   "execution_count": null,
   "metadata": {},
   "outputs": [],
   "source": [
    "nombre='Vanesa'\n",
    "edad=30\n",
    "dinero=30.4\n",
    "esCasa=True\n",
    "\n",
    "\n",
    "print(type(nombre))\n",
    "print(type(edad))\n",
    "print(type(dinero))\n",
    "print(type(esCasa))\n"
   ]
  },
  {
   "cell_type": "markdown",
   "metadata": {},
   "source": [
    "**Ejercicio 2:**\n",
    "\n",
    "Cambia el valor de todas las variables, e imprímelas por consola."
   ]
  },
  {
   "cell_type": "code",
   "execution_count": null,
   "metadata": {},
   "outputs": [],
   "source": [
    "print(\"--------------------------------\")\n",
    "print(nombre)\n",
    "print(edad)\n",
    "print(dinero)\n",
    "print(esCasa)\n",
    "print(\"--------------------------------\")\n",
    "\n",
    "nombre='Irene'\n",
    "edad=25\n",
    "dinero=40.4\n",
    "esCasa=False\n",
    "\n",
    "print(\"--------------------------------\")\n",
    "print(nombre)\n",
    "print(edad)\n",
    "print(dinero)\n",
    "print(esCasa)\n",
    "print(\"--------------------------------\")"
   ]
  },
  {
   "cell_type": "markdown",
   "metadata": {},
   "source": [
    "# Funciones\n",
    "Las funciones son las acciones que podemos realizar en el código.\n",
    "\n",
    "- Nos sirve para evitar reescribir el mismo código varias veces.\n",
    "- __Definen__ métodos que podemos usar.\n",
    "\n",
    "**Tipos de funciones**:\n",
    "| cuerpo | ¿Tiene return? | Descripción\n",
    "|----|----|----|\n",
    "| function()    | no   | No pide parámetros ni devuelve nada |\n",
    "| function( parameter ) | no    | Pide parámetros para poder ejecutar la función |\n",
    "| function()    | sí    | No pide parámetro y devuelve un valor|\n",
    "| function( parameter ) | sí   | Pide parámetro y devuelve un valor |"
   ]
  },
  {
   "cell_type": "markdown",
   "metadata": {},
   "source": [
    "1️⃣ **Ejemplo de función que no pide parámetros y no devuelve nada**\n",
    "\n",
    "☝ Este tipo de funciones suelen trabajar con variables globales."
   ]
  },
  {
   "cell_type": "code",
   "execution_count": null,
   "metadata": {},
   "outputs": [],
   "source": [
    "def asignar_nuevo_nombre():  \n",
    "    global nombre\n",
    "    nombre='Antonio'\n",
    "\n",
    "asignar_nuevo_nombre()                      # Función\n",
    "print(nombre)"
   ]
  },
  {
   "cell_type": "markdown",
   "metadata": {},
   "source": [
    "2️⃣ **Ejemplo de función que pide parámetros y no devuelve nada**\n",
    "\n",
    "☝ Este tipo de funciones __también__ suelen trabajar con variables globales."
   ]
  },
  {
   "cell_type": "code",
   "execution_count": null,
   "metadata": {},
   "outputs": [],
   "source": [
    "def asignar_nuevo_nombre_1(nuevo_nombre):\n",
    "    global nombre \n",
    "    nombre=nuevo_nombre\n",
    "\n",
    "asignar_nuevo_nombre_1('Ángela')            # Función con parámetros\n",
    "print(nombre)"
   ]
  },
  {
   "cell_type": "markdown",
   "metadata": {},
   "source": [
    "\n",
    "3️⃣ **Ejemplo de función que no pide parámetros y no devuelve un valor**\n",
    "\n",
    "☝ Este tipo de funciones se suelen usar para __asignar__ valores a las variables, o consultar el resultado de una operación."
   ]
  },
  {
   "cell_type": "code",
   "execution_count": null,
   "metadata": {},
   "outputs": [],
   "source": [
    "def asignar_nuevo_nombre_2():\n",
    "    return 'Laura'\n",
    "\n",
    "nombre = asignar_nuevo_nombre_2()       # Función con retorno\n",
    "print(nombre)"
   ]
  },
  {
   "cell_type": "markdown",
   "metadata": {},
   "source": [
    "\n",
    "3️⃣ **Ejemplo de función que pide parámetros y devuelve un valor**\n",
    "\n",
    "☝ Este tipo de funciones se suelen usar para __calcular__ cosas en sus entrañas, permitiendo personalizar su proceso con los parámetros aportados.\n",
    "\n",
    "Por ejemplo:\n",
    "\n",
    "````python\n",
    "obtener_magia_personalizada(numero_afortunado):\n",
    "    magia = edad_mágica *13 + random.random()\n",
    "    personalizada = dia_semana *13 + random.random()\n",
    "    return (magia + personalizada) * numero_afortunado\n",
    "````"
   ]
  },
  {
   "cell_type": "code",
   "execution_count": null,
   "metadata": {},
   "outputs": [],
   "source": [
    "def asignar_nuevo_nombre_3(nuevo_nombre):\n",
    "    global nombre\n",
    "    return nombre + \" \" + nuevo_nombre\n",
    "\n",
    "print( asignar_nuevo_nombre_3(\"María\") ) #Función con retorno y parámetro"
   ]
  },
  {
   "cell_type": "markdown",
   "metadata": {},
   "source": [
    "# 🔄 Estructuras de control\n",
    "\n",
    "## Condicional If y lógica comparativa\n",
    "\n",
    "### 🟥 Palabras reservadas\n",
    "\n",
    "- __True__: Verdadero\n",
    "- __False__: Falso\n",
    "- __and__: Y\n",
    "- __or__: O\n",
    "- __not__: No\n",
    "\n",
    "### 🟨 Lógica\n",
    "\n",
    "| Afirmación 1  | Nexo  | Afirmación 2  | Resultado |\n",
    "|----           |----   |----           |----       |\n",
    "| ✅Verdad        |       |               | ✅true      |\n",
    "| ❌Falso         |       |               | ❌false     |\n",
    "| ✅Verdad        | and   | ✅Verdad        | ✅true      |\n",
    "| ✅Verdad        | and   | ❌Falso         | ❌false     |\n",
    "| ❌Falso         | or    | ✅Verdad        | ✅true      |\n",
    "| ❌Falso         | or    | ❌Falso         | ❌false     |\n",
    "|               | not   | ❌Falso         | ✅true      |\n",
    "|               | not   | ✅Verdad        | ❌false     |\n",
    "\n",
    "### 🟩 Operadores comparativos:\n",
    "\n",
    "- X __<__ Y: X es menor que Y\n",
    "- X __>__ Y: X es mayor que Y\n",
    "- X __>=__ Y: X es mayor o igual a Y\n",
    "- X __<=__ Y: X es menor o igual a Y\n",
    "- X __!=__ Y: X no es igual a Y"
   ]
  },
  {
   "cell_type": "code",
   "execution_count": 4,
   "metadata": {},
   "outputs": [
    {
     "name": "stdout",
     "output_type": "stream",
     "text": [
      "Es menor de edad \n"
     ]
    },
    {
     "data": {
      "text/plain": [
       "False"
      ]
     },
     "execution_count": 4,
     "metadata": {},
     "output_type": "execute_result"
    }
   ],
   "source": [
    "### Escribe un función que calcule la edad de una persona\n",
    "def calcular_edad():\n",
    "    annio_nacimiento = int(input(\"Dime tu año de nacimiento: \"))\n",
    "    annio_actual = int(input(\"Dime la  fecha actual: \"))\n",
    "    return annio_actual - annio_nacimiento\n",
    "\n",
    "\n",
    "### Escribe otra función que diga si el usuario es mayor de edad\n",
    "def mayor_edad(edad_actual):\n",
    "    if (edad_actual >= 18):\n",
    "        print(f\"Es mayor de edad \") \n",
    "        return True\n",
    "    else:\n",
    "        print(f\"Es menor de edad \")\n",
    "        return False\n",
    "        \n",
    "\n",
    "\n",
    "mayor_edad(calcular_edad())"
   ]
  },
  {
   "cell_type": "code",
   "execution_count": 12,
   "metadata": {},
   "outputs": [
    {
     "name": "stdout",
     "output_type": "stream",
     "text": [
      "/***********************************************************/\n",
      "Vamos a calcular el precio del gimnasio.\n",
      "Para empezar, indique su sexo con una \"H\" si es hombre\n",
      "y una \"M\" si es Mujer\n",
      "/***********************************************************/\n",
      "Su sexo es M\n",
      "Es mayor de edad \n",
      "La entrada cuesta 3€\n"
     ]
    },
    {
     "data": {
      "text/plain": [
       "3"
      ]
     },
     "execution_count": 12,
     "metadata": {},
     "output_type": "execute_result"
    }
   ],
   "source": [
    "#Mayor de edad y es hombre. Entrada al gimnasio cuesta 5€.\n",
    "#Si la persona es menor de edad y es mujer. Entrada al gimnasio cuesta 20€.\n",
    "#El resto de las personas cuesta 3€.\n",
    "\n",
    "#Función que pregunte el año de nacimiento y el sexo. \n",
    "#Devolver cuanto ha de pagar.\n",
    "\n",
    "def obtener_precio_gimnasio():\n",
    "    sexo = input(\"Indique su sexo, recuerda escribir 'M' si eres mujer y 'H' si eres hombre: \")\n",
    "    print(f\"Su sexo es {sexo}\")\n",
    "    es_mayor_edad = mayor_edad(calcular_edad())\n",
    "    if (es_mayor_edad == True and sexo == \"H\"):\n",
    "        print(f\"La entrada cuesta 5€\")\n",
    "        return 5\n",
    "    elif(es_mayor_edad == False and sexo == \"M\"):\n",
    "        print(f\"La entrada cuesta 20€\")\n",
    "        return 20\n",
    "    else:\n",
    "        print(f\"La entrada cuesta 3€\")\n",
    "        return  3\n",
    "\n",
    "\n",
    "\n",
    "\n",
    "def obtener_precio_gimnasio2():\n",
    "    \n",
    "    sexo = \"nulo\"\n",
    "    sexo_es_correcto = False\n",
    "\n",
    "    #Mientras sexo no sea \"H\" o \"M\", sigue preguntando el sexo\n",
    "    while(not sexo_es_correcto):\n",
    "        print(\"/***********************************************************/\")\n",
    "        print(\"Vamos a calcular el precio del gimnasio.\")\n",
    "        print(\"Para empezar, indique su sexo con una \\\"H\\\" si es hombre\")\n",
    "        print(\"y una \\\"M\\\" si es Mujer\")\n",
    "        sexo = input(\"Introduzca \\\"M\\\" o \\\"H\\\": \")\n",
    "        print(\"/***********************************************************/\")\n",
    "\n",
    "        # Si el usuario introduce un valor en minúscula, este vale.\n",
    "        sexo = sexo.upper()\n",
    "        sexo_es_correcto = sexo == 'H' or sexo == 'M'\n",
    "        \n",
    "        # Si el usuario introduce un valor que no es ni M ni H, abortamos la misión.\n",
    "        if (not sexo_es_correcto):\n",
    "            print(f\"{sexo} no es un valor válido. Por favor, inténtalo de nuevo.\")\n",
    "\n",
    "    print(f\"Su sexo es {sexo}\")\n",
    "    \n",
    "    es_mayor_edad = mayor_edad(calcular_edad())\n",
    "    \n",
    "    if (es_mayor_edad and sexo == \"H\"):\n",
    "        print(f\"La entrada cuesta 5€\")\n",
    "        return 5\n",
    "\n",
    "    if(not es_mayor_edad and sexo == \"M\"):\n",
    "        print(f\"La entrada cuesta 20€\")\n",
    "        return 20\n",
    "\n",
    "    print(f\"La entrada cuesta 3€\")\n",
    "    return  3\n",
    "\n",
    "\n",
    "obtener_precio_gimnasio2()"
   ]
  },
  {
   "cell_type": "markdown",
   "metadata": {},
   "source": [
    "#### Ejercicio: Las malas prácticas del profesor\n",
    "\n",
    "Un profesor quiere que desarrolles un programa que calcule si un alumno está aprovado o suspendido dependiendo de una serie de factores:\n",
    "\n",
    "- Si el alumno ha sacado una nota superior a 5 en el examen, está aprobado.\n",
    "- Si el alumno tiene más de 18 años y ha sacado un 4 o más, está aprobado.\n",
    "- Si el alumno se llama Antonio -como su hijo- y ha sacado un 3 o más, está aprobado.\n",
    "- Si el alumno se llama Bonifacio -como el hijo del profe de mates- y ha sacado menos de 8, está suspendido."
   ]
  },
  {
   "cell_type": "code",
   "execution_count": 20,
   "metadata": {},
   "outputs": [
    {
     "name": "stdout",
     "output_type": "stream",
     "text": [
      "/***************************************/\n",
      "/*******ALUMNOS NORMALES****************/\n",
      "[] Alumno Jesus, con 16 años y nota 6 debe ser aprobado\n",
      "Está aprobado\n",
      "[] Alumno María, con 16 años y nota 4 debe ser suspendida\n",
      "Está suspendido\n",
      "[] Alumno José, con 16 años y nota 9 debe ser aprobado\n",
      "Está aprobado\n",
      "/***************************************/\n",
      "\n",
      "/***************************************/\n",
      "/*******ALUMNOS REPETIDORED****************/\n",
      "Alumno Alfonso, con 19 años y nota 4 debe ser aprobado\n",
      "Está aprobado\n",
      "Alumno Bruno, con 20 años y nota 3 debe ser suspendido\n",
      "Está suspendido\n",
      "Alumno Carlos, con 40 años y nota 2 debe ser suspendido\n",
      "Está suspendido\n",
      "/***************************************/\n",
      "\n",
      "/***************************************/\n",
      "/*******ALUMNOS ESPECIALES****************/\n",
      "Alumno Antonio, con 16 años y nota 3 debe ser aprobado\n",
      "Está aprobado\n",
      "Alumno Antonio, con 23 años y nota 3 debe ser aprobado\n",
      "Está aprobado\n",
      "Alumno Bonifacio, con 16 años y nota 8 debe ser aprobado\n",
      "Está aprobado\n",
      "Alumno Bonifacio, con 40 años y nota 5 debe ser suspenso\n",
      "Está aprobado\n",
      "/***************************************/\n"
     ]
    }
   ],
   "source": [
    "# Crear función que reciba por parámetro los datos de los alumnos\n",
    "# Parámetros: Edad, nota y nombre.\n",
    "\n",
    "def calcular_nota(nombre:str, edad, nota):\n",
    "    if (nota > 5):\n",
    "        print(\"Está aprobado\") \n",
    "    elif (nombre == 'Bonifacio' and nota <8):\n",
    "        print(\"Está suspendido\")\n",
    "    elif (edad > 18 and nota >= 4):\n",
    "        print(\"Está aprobado\")\n",
    "    elif (nombre == 'Antonio' and nota >=3):\n",
    "        print(\"Está aprobado\")\n",
    "    else:\n",
    "        print(\"Está suspendido\")\n",
    "    \n",
    "\n",
    "# alumnos normales\n",
    "print(\"/***************************************/\")\n",
    "print(\"/*******ALUMNOS NORMALES****************/\")\n",
    "print(\"[] Alumno Jesus, con 16 años y nota 6 debe ser aprobado\")\n",
    "calcular_nota(\"Jesus\", 16, 6)   # Aprobado\n",
    "print(\"[] Alumno María, con 16 años y nota 4 debe ser suspendida\")\n",
    "calcular_nota(\"María\", 16, 4)   # Suspe:ndido\n",
    "print(\"[] Alumno José, con 16 años y nota 9 debe ser aprobado\")\n",
    "calcular_nota(\"José\", 16, 9)    # Aprobado\n",
    "print(\"/***************************************/\")\n",
    "print()\n",
    "\n",
    "print(\"/***************************************/\")\n",
    "print(\"/*******ALUMNOS REPETIDORED****************/\")\n",
    "print(\"Alumno Alfonso, con 19 años y nota 4 debe ser aprobado\")\n",
    "calcular_nota(\"Alfonso\", 19, 4)   # Aprobado\n",
    "print(\"Alumno Bruno, con 20 años y nota 3 debe ser suspendido\")\n",
    "calcular_nota(\"Bruno\", 40, 3)   # Suspenso\n",
    "print(\"Alumno Carlos, con 40 años y nota 2 debe ser suspendido\")\n",
    "calcular_nota(\"Carlos\", 40, 2)    # Suspenso\n",
    "print(\"/***************************************/\")\n",
    "print()\n",
    "\n",
    "print(\"/***************************************/\")\n",
    "print(\"/*******ALUMNOS ESPECIALES****************/\")\n",
    "\n",
    "print(\"Alumno Antonio, con 16 años y nota 3 debe ser aprobado\")\n",
    "calcular_nota(\"Antonio\", 16, 3)   # Aprobado\n",
    "print(\"Alumno Antonio, con 23 años y nota 3 debe ser aprobado\")\n",
    "calcular_nota(\"Antonio\", 23, 3)   # Aprobado\n",
    "print(\"Alumno Bonifacio, con 16 años y nota 8 debe ser aprobado\")\n",
    "calcular_nota(\"Bonifacio\", 16, 8)    # Aprobado\n",
    "print(\"Alumno Bonifacio, con 40 años y nota 5 debe ser suspenso\")\n",
    "calcular_nota(\"Bonifacio\", 40, 5)    # Suspenso\n",
    "print(\"/***************************************/\")\n"
   ]
  }
 ],
 "metadata": {
  "interpreter": {
   "hash": "fdabe4b589a1a162d6538830c2ce3df836d188c84531d91888910694a18e7d47"
  },
  "kernelspec": {
   "display_name": "Python 3.10.0 64-bit",
   "language": "python",
   "name": "python3"
  },
  "language_info": {
   "codemirror_mode": {
    "name": "ipython",
    "version": 3
   },
   "file_extension": ".py",
   "mimetype": "text/x-python",
   "name": "python",
   "nbconvert_exporter": "python",
   "pygments_lexer": "ipython3",
   "version": "3.9.7"
  },
  "orig_nbformat": 4
 },
 "nbformat": 4,
 "nbformat_minor": 2
}
