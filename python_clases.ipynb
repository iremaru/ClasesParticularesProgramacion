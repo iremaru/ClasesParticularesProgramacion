{
 "cells": [
  {
   "cell_type": "markdown",
   "metadata": {},
   "source": [
    "# Variables\n",
    "\n",
    "- String    --> Cadena de caracteres\n",
    "- Int       --> Números enteros\n",
    "- Float     --> Números decimales\n",
    "- Boolean   --> Verdadero o falso\n",
    "\n",
    "> 👆🏻 Recuerda que los decimales en programación se declaran con puntos (✅5.2) y no con comas (❌5.2)"
   ]
  },
  {
   "cell_type": "code",
   "execution_count": null,
   "metadata": {},
   "outputs": [],
   "source": [
    "nombre='Vanesa'\n",
    "edad=30\n",
    "dinero=30.4\n",
    "esCasa=True\n",
    "\n",
    "\n",
    "print(type(nombre))\n",
    "print(type(edad))\n",
    "print(type(dinero))\n",
    "print(type(esCasa))\n"
   ]
  },
  {
   "cell_type": "markdown",
   "metadata": {},
   "source": [
    "**Ejercicio 2:**\n",
    "\n",
    "Cambia el valor de todas las variables, e imprímelas por consola."
   ]
  },
  {
   "cell_type": "code",
   "execution_count": null,
   "metadata": {},
   "outputs": [],
   "source": [
    "print(\"--------------------------------\")\n",
    "print(nombre)\n",
    "print(edad)\n",
    "print(dinero)\n",
    "print(esCasa)\n",
    "print(\"--------------------------------\")\n",
    "\n",
    "nombre='Irene'\n",
    "edad=25\n",
    "dinero=40.4\n",
    "esCasa=False\n",
    "\n",
    "print(\"--------------------------------\")\n",
    "print(nombre)\n",
    "print(edad)\n",
    "print(dinero)\n",
    "print(esCasa)\n",
    "print(\"--------------------------------\")"
   ]
  },
  {
   "cell_type": "markdown",
   "metadata": {},
   "source": [
    "# Funciones\n",
    "Las funciones son las acciones que podemos realizar en el código.\n",
    "\n",
    "- Nos sirve para evitar reescribir el mismo código varias veces.\n",
    "- __Definen__ métodos que podemos usar.\n",
    "\n",
    "**Tipos de funciones**:\n",
    "| cuerpo | ¿Tiene return? | Descripción\n",
    "|----|----|----|\n",
    "| function()    | no   | No pide parámetros ni devuelve nada |\n",
    "| function( parameter ) | no    | Pide parámetros para poder ejecutar la función |\n",
    "| function()    | sí    | No pide parámetro y devuelve un valor|\n",
    "| function( parameter ) | sí   | Pide parámetro y devuelve un valor |"
   ]
  },
  {
   "cell_type": "markdown",
   "metadata": {},
   "source": [
    "1️⃣ **Ejemplo de función que no pide parámetros y no devuelve nada**\n",
    "\n",
    "☝ Este tipo de funciones suelen trabajar con variables globales."
   ]
  },
  {
   "cell_type": "code",
   "execution_count": null,
   "metadata": {},
   "outputs": [],
   "source": [
    "def asignar_nuevo_nombre():  \n",
    "    global nombre\n",
    "    nombre='Antonio'\n",
    "\n",
    "asignar_nuevo_nombre()                      # Función\n",
    "print(nombre)"
   ]
  },
  {
   "cell_type": "markdown",
   "metadata": {},
   "source": [
    "2️⃣ **Ejemplo de función que pide parámetros y no devuelve nada**\n",
    "\n",
    "☝ Este tipo de funciones __también__ suelen trabajar con variables globales."
   ]
  },
  {
   "cell_type": "code",
   "execution_count": null,
   "metadata": {},
   "outputs": [],
   "source": [
    "def asignar_nuevo_nombre_1(nuevo_nombre):\n",
    "    global nombre \n",
    "    nombre=nuevo_nombre\n",
    "\n",
    "asignar_nuevo_nombre_1('Ángela')            # Función con parámetros\n",
    "print(nombre)"
   ]
  },
  {
   "cell_type": "markdown",
   "metadata": {},
   "source": [
    "\n",
    "3️⃣ **Ejemplo de función que no pide parámetros y no devuelve un valor**\n",
    "\n",
    "☝ Este tipo de funciones se suelen usar para __asignar__ valores a las variables, o consultar el resultado de una operación."
   ]
  },
  {
   "cell_type": "code",
   "execution_count": null,
   "metadata": {},
   "outputs": [],
   "source": [
    "def asignar_nuevo_nombre_2():\n",
    "    return 'Laura'\n",
    "\n",
    "nombre = asignar_nuevo_nombre_2()       # Función con retorno\n",
    "print(nombre)"
   ]
  },
  {
   "cell_type": "markdown",
   "metadata": {},
   "source": [
    "\n",
    "3️⃣ **Ejemplo de función que pide parámetros y devuelve un valor**\n",
    "\n",
    "☝ Este tipo de funciones se suelen usar para __calcular__ cosas en sus entrañas, permitiendo personalizar su proceso con los parámetros aportados.\n",
    "\n",
    "Por ejemplo:\n",
    "\n",
    "````python\n",
    "obtener_magia_personalizada(numero_afortunado):\n",
    "    magia = edad_mágica *13 + random.random()\n",
    "    personalizada = dia_semana *13 + random.random()\n",
    "    return (magia + personalizada) * numero_afortunado\n",
    "````"
   ]
  },
  {
   "cell_type": "code",
   "execution_count": null,
   "metadata": {},
   "outputs": [],
   "source": [
    "def asignar_nuevo_nombre_3(nuevo_nombre):\n",
    "    global nombre\n",
    "    return nombre + \" \" + nuevo_nombre\n",
    "\n",
    "print( asignar_nuevo_nombre_3(\"María\") ) #Función con retorno y parámetro"
   ]
  },
  {
   "cell_type": "markdown",
   "metadata": {},
   "source": [
    "# 🔄 Estructuras de control\n",
    "\n",
    "## Condicional If y lógica comparativa\n",
    "\n",
    "### 🟥 Palabras reservadas\n",
    "\n",
    "- __True__: Verdadero\n",
    "- __False__: Falso\n",
    "- __and__: Y\n",
    "- __or__: O\n",
    "- __not__: No\n",
    "\n",
    "### 🟨 Lógica\n",
    "\n",
    "| Afirmación 1  | Nexo  | Afirmación 2  | Resultado |\n",
    "|----           |----   |----           |----       |\n",
    "| ✅Verdad        |       |               | ✅true      |\n",
    "| ❌Falso         |       |               | ❌false     |\n",
    "| ✅Verdad        | and   | ✅Verdad        | ✅true      |\n",
    "| ✅Verdad        | and   | ❌Falso         | ❌false     |\n",
    "| ❌Falso         | or    | ✅Verdad        | ✅true      |\n",
    "| ❌Falso         | or    | ❌Falso         | ❌false     |\n",
    "|               | not   | ❌Falso         | ✅true      |\n",
    "|               | not   | ✅Verdad        | ❌false     |\n",
    "\n",
    "### 🟩 Operadores comparativos:\n",
    "\n",
    "- X __<__ Y: X es menor que Y\n",
    "- X __>__ Y: X es mayor que Y\n",
    "- X __>=__ Y: X es mayor o igual a Y\n",
    "- X __<=__ Y: X es menor o igual a Y\n",
    "- X __!=__ Y: X no es igual a Y"
   ]
  },
  {
   "cell_type": "code",
   "execution_count": 2,
   "metadata": {},
   "outputs": [
    {
     "name": "stdout",
     "output_type": "stream",
     "text": [
      "Eres mayor de edad \n"
     ]
    }
   ],
   "source": [
    "### Escribe un función que calcule la edad de una persona\n",
    "def edad():\n",
    "    annio_nacimiento = int(input(\"Dime tu año de nacimiento: \"))\n",
    "    annio_actual = int(input(\"Dime la  fecha actual: \"))\n",
    "    return annio_actual - annio_nacimiento\n",
    "\n",
    "\n",
    "### Escribe otra función que diga si el usuario es mayor de edad\n",
    "def mayor_edad(edad_actual):\n",
    "    if (edad_actual >= 18):\n",
    "        print(f\"Eres mayor de edad \")\n",
    "    else:\n",
    "        print(f\"Eres menor de edad \")\n",
    "\n",
    "\n",
    "mayor_edad(edad())"
   ]
  },
  {
   "cell_type": "code",
   "execution_count": null,
   "metadata": {},
   "outputs": [],
   "source": [
    "#Mayor de edad y es hombre. Entrada al gimnasio cuesta 5€.\n",
    "#Si la persona es menor de edad y es mujer. Entrada al gimnasio cuesta 20€.\n",
    "#El resto de las personas cuesta 3€.\n",
    "\n",
    "#Función que pregunte el año de nacimiento y el sexo. \n",
    "#Devolver cuanto ha de pagar.\n",
    "\n",
    "def obtener_precio_gimnasio():\n",
    "    sexo = input(\"Indique su sexo: \")\n",
    "    print(f\"Su sexo es {sexo}\")\n",
    "    edad = edad()\n",
    "    "
   ]
  }
 ],
 "metadata": {
  "interpreter": {
   "hash": "fdabe4b589a1a162d6538830c2ce3df836d188c84531d91888910694a18e7d47"
  },
  "kernelspec": {
   "display_name": "Python 3.10.0 64-bit",
   "language": "python",
   "name": "python3"
  },
  "language_info": {
   "codemirror_mode": {
    "name": "ipython",
    "version": 3
   },
   "file_extension": ".py",
   "mimetype": "text/x-python",
   "name": "python",
   "nbconvert_exporter": "python",
   "pygments_lexer": "ipython3",
   "version": "3.10.0"
  },
  "orig_nbformat": 4
 },
 "nbformat": 4,
 "nbformat_minor": 2
}
