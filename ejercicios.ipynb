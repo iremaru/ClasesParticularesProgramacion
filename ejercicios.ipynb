{
 "cells": [
  {
   "cell_type": "markdown",
   "metadata": {},
   "source": [
    "# Variables"
   ]
  },
  {
   "cell_type": "markdown",
   "metadata": {},
   "source": [
    "## Ejercicio 1\n",
    "\n",
    "> 📖 Había una vez, en un pueblo cualquiera hubicado a una distancia aleatoria entre tú y yo, una población de alegres aldeanos que no tenían ningún problema ni ninguna maldad. Como era imposible que una gran historia surgiera allá donde no había dificultades, llegamos nosotros para cambiar el curso de la Historia y creamos a nuestro propio __villano__. Al cual llamamos __badguy__.\n",
    ">\n",
    "> Como todo villano, badguy tenía muchas cosas que lo definían como ser humao. Por ejemplo, tenía una __edad__, que eran _26_ años. También tenía una __salud__, que estaba perfecta con un _100_. Tenía __fuerza__ con la que si te golpeaba, te haría _3.5_ puntos de daño. Su __resistencia__ no estaba mal, de _1.7_. Y, definitivamente, era _cierto_ que __estaba vivo__.\n",
    "\n",
    "- nombre: \"Chico malo\" --> String\n",
    "- edad: 26 años --> Int\n",
    "- salud: 100.0 --> Float\n",
    "- fuerza: 3.5 --> Float\n",
    "- resistencia: 1.7 --> Float\n",
    "- estaVivo: True --> Boolean\n",
    "\n",
    "1. 🖊 **Corrije el código de abajo, con todos los _atributos_ correctos de badguy.**\n",
    "2. 🖊 **Comprueba el** tipo **de cada variable, asegurándote de que coincida con lo especificado más arriba.**\n"
   ]
  },
  {
   "cell_type": "code",
   "execution_count": null,
   "metadata": {},
   "outputs": [],
   "source": [
    "badguy__nombre = True\n",
    "badguy__edad = \"16\"\n",
    "badguy__salud = 99\n",
    "badguy__fuerza = 3,5\n",
    "badguy__resistencia = 1 + 7\n",
    "badguy__esta_vivo = \"sí\"\n",
    "\n",
    "print( type(badguy__nombre) )"
   ]
  },
  {
   "cell_type": "markdown",
   "metadata": {},
   "source": [
    "> ⚡ Si tienes problemas consiguiendo que la salud sea un float, recuerda que la única diferencia entre un int y un float es que los float __usan puntos__. Aunque sea un número redondo, como el 100, si quieres que sea un float, tienes que ponerle un punto, y el valor del decimal.\n",
    "\n",
    "````py\n",
    "# Esto es un int\n",
    "13\n",
    "# Y esto es un float\n",
    "13.0\n",
    "````"
   ]
  },
  {
   "cell_type": "markdown",
   "metadata": {},
   "source": [
    "## Ejercicio 2\n",
    "> 📖 Pero en esta historia, como en todas las historias, también debe haber un héroe, al cual llamaremos __hero__.\n",
    ">\n",
    "> Y este héroe no es distinto a nuestro villano, y también tiene sus atributos:\n",
    "> \n",
    "> Su __edad__ es _tres años menor a la de badguy_.\n",
    "> \n",
    "> Y la verdad es que estaba un poco pachucho, por lo que su __salud__ es _la mitad que la de villano_. \n",
    "> \n",
    "> Nuestro héroe tenía una __fuerza__ prodigiosa, y aunque había nacido con 0.3 puntos de fuerza, cada año que pasaba, ganaba otros 0.3 puntos de fuerza sin hacer nada. Por lo que su fuerza actual es... No recuerdo. Calcúlala tú.\n",
    "> \n",
    "> Para compensar su abrumadora fuerza, un brujo envidioso lo había maldito, haciendo que su __resistencia__ fuera del _1.7_% de su salud.\n",
    "> \n",
    "> Y, definitivamente, era _cierto_ que él también __estaba vivo__.\n",
    "\n",
    "1. 🖊 **Declara en la celda de código de abajo todos los _atributos_ de nuestro heroe.**\n",
    "   \n",
    "- hero__nombre\n",
    "- hero__edad\n",
    "- hero__salud\n",
    "- hero__fuerza\n",
    "- hero__resistencia\n",
    "- hero__esta_vivo\n",
    "\n",
    "> ❌ Asigna el valor de la variable con una sola línea. No uses funciones.\n",
    "2. 🖊 **Comprueba el** tipo **de cada variable, asegurándote de que coincida con su igual en los atributos de badguy.**"
   ]
  },
  {
   "cell_type": "code",
   "execution_count": null,
   "metadata": {},
   "outputs": [],
   "source": []
  },
  {
   "cell_type": "markdown",
   "metadata": {},
   "source": [
    "# Funciones"
   ]
  },
  {
   "cell_type": "markdown",
   "metadata": {},
   "source": [
    "> 📖 Ahora que tenemos a nuestro __badguy__ y a nuestro __hero__ creados, es hora de darle la capacidad de realizar acciones y calcular qué es lo que pasa.\n",
    "\n",
    "### Ejercicio 1\n",
    "\n",
    "> Define una función llamada \"badguy__golpea_a_heroe()\". \n",
    "\n",
    "1. Cada vez que uses esta función, Badguy usará toda su fuerza para golpear al héroe, pero el héroe usará su resistencia para detener el daño. Si Badguy golpea con 7 de fuerza, y héroe defiende con 6 de resistencia, sólo recibirá un punto de daño.\n",
    "2. Actualiza la vida restante del héroe __dentro__ de la función.\n",
    "3. La función no necesitará parámetros ni devolverá ningún valor.\n",
    "4. Después de definir la función, ejecútala.\n",
    "5. Seguidamente imprime el valor de la vida del héroe, para ver cuánta vida le queda.\n",
    "\n"
   ]
  },
  {
   "cell_type": "code",
   "execution_count": null,
   "metadata": {},
   "outputs": [],
   "source": []
  },
  {
   "cell_type": "markdown",
   "metadata": {},
   "source": [
    "### Ejercicio 2\n",
    "\n",
    "> Define una función llamada \"hero__golpea_a_badguy()\". \n",
    "\n",
    "1. La función ha de ser igual que la de badguy, pero a la inversa.\n",
    "2. **Dentro** de la función, imprime varias frases informando de lo que está pasando. Por ejemplo: Si Héroe se llama \"Antonio\", badguy se llama \"Braulio\", la fuerza de Antonio es de 3 y la resistencia de Braulio es de 1, debe imprimir: \n",
    "   1. \"_Antonio_ ha golpeado a _Braulio_ con _3_ puntos de fuerza\". \n",
    "   2. \"Y como la resistencia de _Braulio_ es de _1_, sólo recibe _2_ puntos de daño\"\n",
    "   3. \"Por lo que a _Braulio_ le quedan _98_ puntos de vida\"\n",
    "3. Llama a la función después de definirla.\n",
    "4. Imprime badguy_salud para asegurarte de que le quede la cantidad de vida que afirma la función recién llamada.\n",
    "\n"
   ]
  },
  {
   "cell_type": "code",
   "execution_count": null,
   "metadata": {},
   "outputs": [],
   "source": []
  },
  {
   "cell_type": "markdown",
   "metadata": {},
   "source": [
    "### Ejercicio 3\n",
    "\n",
    "> Define una función llamada \"badguy__curarse(cantidad)\". \n",
    "\n",
    "1. La función debe añadir la cantidad de salud a Badguy indicada como parámetro.\n",
    "2. **Dentro** de la función, imprime varias frases informando de lo que está pasando. Por ejemplo: \n",
    "   1. \"_Braulio_ se ha curado _13_ puntos de vida\". \n",
    "   2. \"Ahora la salud de _Braulio_ está en _110_ \"\n",
    "3. Llama a la función después de definirla, pasándole la cantidad de vida que te apetezca curarle a nuestro villano.\n",
    "4. Imprime badguy_salud para asegurarte de que le quede la cantidad de vida que afirma la función recién llamada.\n",
    "\n"
   ]
  },
  {
   "cell_type": "code",
   "execution_count": null,
   "metadata": {},
   "outputs": [],
   "source": []
  },
  {
   "cell_type": "markdown",
   "metadata": {},
   "source": [
    "### Ejercicio 4\n",
    "\n",
    "> Define una función llamada \"hero__muchigolpea_a_badguy(veces)\". \n",
    "\n",
    "1. La función ha de ser igual que la anterior, pero recibirá un parámetro (veces) que calculará cuántas veces golpeará el héroe a Badguy.\n",
    "2. **Dentro** de la función, imprime varias frases informando de lo que está pasando. Por ejemplo: \n",
    "   1. \"_Antonio_ ha golpeado a _Braulio_ _7_ veces con _3_ puntos de fuerza\". \n",
    "   2. \"Y como la resistencia de _Braulio_ es de _1_, sólo recibe _14_ puntos \"\n",
    "   3. \"Por lo que a _Braulio_ le quedan _84_ puntos de vida\"\n",
    "3. Llama a la función después de definirla.\n",
    "4. Imprime badguy_salud para asegurarte de que le quede la cantidad de vida que afirma la función recién llamada.\n",
    "\n"
   ]
  },
  {
   "cell_type": "code",
   "execution_count": null,
   "metadata": {},
   "outputs": [],
   "source": []
  }
 ],
 "metadata": {
  "language_info": {
   "name": "python"
  },
  "orig_nbformat": 4
 },
 "nbformat": 4,
 "nbformat_minor": 2
}
