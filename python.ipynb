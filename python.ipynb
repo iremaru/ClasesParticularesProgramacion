{
 "cells": [
  {
   "cell_type": "markdown",
   "metadata": {},
   "source": [
    "# Variables\n",
    "\n",
    "- String    --> Cadena de caracteres\n",
    "- Int       --> Números enteros\n",
    "- Float     --> Números decimales\n",
    "- Boolean   --> Verdadero o falso\n",
    "\n",
    "> 👆🏻 Recuerda que los decimales en programación se declaran con puntos (✅5.2) y no con comas (❌5.2)"
   ]
  },
  {
   "cell_type": "code",
   "execution_count": 26,
   "metadata": {},
   "outputs": [
    {
     "name": "stdout",
     "output_type": "stream",
     "text": [
      "<class 'str'>\n",
      "<class 'int'>\n",
      "<class 'float'>\n",
      "<class 'bool'>\n"
     ]
    }
   ],
   "source": [
    "nombre='Vanesa'\n",
    "edad=30\n",
    "dinero=30.4\n",
    "esCasa=True\n",
    "\n",
    "\n",
    "print(type(nombre))\n",
    "print(type(edad))\n",
    "print(type(dinero))\n",
    "print(type(esCasa))\n"
   ]
  },
  {
   "cell_type": "markdown",
   "metadata": {},
   "source": [
    "**Ejercicio 2:**\n",
    "\n",
    "Cambia el valor de todas las variables, e imprímelas por consola."
   ]
  },
  {
   "cell_type": "code",
   "execution_count": 27,
   "metadata": {},
   "outputs": [
    {
     "name": "stdout",
     "output_type": "stream",
     "text": [
      "--------------------------------\n",
      "Vanesa\n",
      "30\n",
      "30.4\n",
      "True\n",
      "--------------------------------\n",
      "--------------------------------\n",
      "Irene\n",
      "25\n",
      "40.4\n",
      "False\n",
      "--------------------------------\n"
     ]
    }
   ],
   "source": [
    "print(\"--------------------------------\")\n",
    "print(nombre)\n",
    "print(edad)\n",
    "print(dinero)\n",
    "print(esCasa)\n",
    "print(\"--------------------------------\")\n",
    "\n",
    "nombre='Irene'\n",
    "edad=25\n",
    "dinero=40.4\n",
    "esCasa=False\n",
    "\n",
    "print(\"--------------------------------\")\n",
    "print(nombre)\n",
    "print(edad)\n",
    "print(dinero)\n",
    "print(esCasa)\n",
    "print(\"--------------------------------\")"
   ]
  },
  {
   "cell_type": "markdown",
   "metadata": {},
   "source": [
    "# Funciones\n",
    "Las funciones son las acciones que podemos realizar en el código.\n",
    "\n",
    "- Nos sirve para evitar reescribir el mismo código varias veces.\n",
    "- __Definen__ métodos que podemos usar.\n",
    "\n",
    "**Tipos de funciones**:\n",
    "| cuerpo | ¿Tiene return? | Descripción\n",
    "|----|----|----|\n",
    "| function()    | no   | No pide parámetros ni devuelve nada |\n",
    "| function( parameter ) | no    | Pide parámetros para poder ejecutar la función |\n",
    "| function()    | sí    | No pide parámetro y devuelve un valor|\n",
    "| function( parameter ) | sí   | Pide parámetro y devuelve un valor |"
   ]
  },
  {
   "cell_type": "markdown",
   "metadata": {},
   "source": [
    "1️⃣ **Ejemplo de función que no pide parámetros y no devuelve nada**\n",
    "\n",
    "☝ Este tipo de funciones suelen trabajar con variables globales."
   ]
  },
  {
   "cell_type": "code",
   "execution_count": 28,
   "metadata": {},
   "outputs": [
    {
     "name": "stdout",
     "output_type": "stream",
     "text": [
      "Antonio\n"
     ]
    }
   ],
   "source": [
    "def asignar_nuevo_nombre():  \n",
    "    global nombre\n",
    "    nombre='Antonio'\n",
    "\n",
    "asignar_nuevo_nombre()                      # Función\n",
    "print(nombre)"
   ]
  },
  {
   "cell_type": "markdown",
   "metadata": {},
   "source": [
    "2️⃣ **Ejemplo de función que pide parámetros y no devuelve nada**\n",
    "\n",
    "☝ Este tipo de funciones __también__ suelen trabajar con variables globales."
   ]
  },
  {
   "cell_type": "code",
   "execution_count": 32,
   "metadata": {},
   "outputs": [
    {
     "name": "stdout",
     "output_type": "stream",
     "text": [
      "Ángela\n"
     ]
    }
   ],
   "source": [
    "def asignar_nuevo_nombre_1(nuevo_nombre):\n",
    "    global nombre \n",
    "    nombre=nuevo_nombre\n",
    "\n",
    "asignar_nuevo_nombre_1('Ángela')            # Función con parámetros\n",
    "print(nombre)"
   ]
  },
  {
   "cell_type": "markdown",
   "metadata": {},
   "source": [
    "\n",
    "3️⃣ **Ejemplo de función que no pide parámetros y no devuelve un valor**\n",
    "\n",
    "☝ Este tipo de funciones se suelen usar para __asignar__ valores a las variables, o consultar el resultado de una operación."
   ]
  },
  {
   "cell_type": "code",
   "execution_count": 34,
   "metadata": {},
   "outputs": [
    {
     "name": "stdout",
     "output_type": "stream",
     "text": [
      "Laura\n"
     ]
    }
   ],
   "source": [
    "def asignar_nuevo_nombre_2():\n",
    "    return 'Laura'\n",
    "\n",
    "nombre = asignar_nuevo_nombre_2()       # Función con retorno\n",
    "print(nombre)"
   ]
  },
  {
   "cell_type": "markdown",
   "metadata": {},
   "source": [
    "\n",
    "3️⃣ **Ejemplo de función que pide parámetros y devuelve un valor**\n",
    "\n",
    "☝ Este tipo de funciones se suelen usar para __modificar__ variables globales, personalizándo dicha modificación con el parámetro que se ha especificado."
   ]
  },
  {
   "cell_type": "code",
   "execution_count": 36,
   "metadata": {},
   "outputs": [
    {
     "name": "stdout",
     "output_type": "stream",
     "text": [
      "Laura María\n"
     ]
    }
   ],
   "source": [
    "def asignar_nuevo_nombre_3(nuevo_nombre):\n",
    "    global nombre\n",
    "    return nombre + \" \" + nuevo_nombre\n",
    "\n",
    "print( asignar_nuevo_nombre_3(\"María\") ) #Función con retorno y parámetro"
   ]
  },
  {
   "cell_type": "markdown",
   "metadata": {},
   "source": [
    "# Estructuras de control"
   ]
  }
 ],
 "metadata": {
  "interpreter": {
   "hash": "fdabe4b589a1a162d6538830c2ce3df836d188c84531d91888910694a18e7d47"
  },
  "kernelspec": {
   "display_name": "Python 3.10.0 64-bit",
   "language": "python",
   "name": "python3"
  },
  "language_info": {
   "codemirror_mode": {
    "name": "ipython",
    "version": 3
   },
   "file_extension": ".py",
   "mimetype": "text/x-python",
   "name": "python",
   "nbconvert_exporter": "python",
   "pygments_lexer": "ipython3",
   "version": "3.10.0"
  },
  "orig_nbformat": 4
 },
 "nbformat": 4,
 "nbformat_minor": 2
}
