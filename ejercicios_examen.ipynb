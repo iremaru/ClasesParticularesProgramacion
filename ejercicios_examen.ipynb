{
 "cells": [
  {
   "cell_type": "markdown",
   "metadata": {},
   "source": [
    "# Ejercicio examen\n",
    "\n",
    "## Ejercicio 1\n",
    "Haz un menu que te permita calcular el área de distinta figuras geométicas según la opción que elijas.\n",
    "\n",
    "👆🏻 Asegurate de que cada opción conduzca a una función que acepte sus valores **por parámetros**.\n",
    "\n",
    "1. Área de un rectángulo\n",
    "2. Área de un triángulo\n",
    "3. Área de un círculo\n",
    "4. Área de un trapecio\n",
    "5. Salir"
   ]
  },
  {
   "cell_type": "code",
   "execution_count": 10,
   "metadata": {},
   "outputs": [
    {
     "name": "stdout",
     "output_type": "stream",
     "text": [
      "/-----------------------------------/\n",
      "Indica la operación a realizar: \n",
      "Opción 1: Área de un rectángulo\n",
      "Opción 2: Área de un triángulo\n",
      "Opción 3: Área de un círculo\n",
      "Opción 4: Área de un trapecio\n",
      "Opción 5: Salir\n",
      "/-----------------------------------/\n",
      "El área del círculo es 94.2.\n",
      "/-----------------------------------/\n",
      "Indica la operación a realizar: \n",
      "Opción 1: Área de un rectángulo\n",
      "Opción 2: Área de un triángulo\n",
      "Opción 3: Área de un círculo\n",
      "Opción 4: Área de un trapecio\n",
      "Opción 5: Salir\n",
      "/-----------------------------------/\n",
      "El programa ha terminado\n"
     ]
    }
   ],
   "source": [
    "# Áreas --> funciones de las áreas por parámetros\n",
    "# MENÚ \n",
    "def area_rectangulo(base,altura):\n",
    "    arear= base*altura\n",
    "    print(f\"El área del rectángulo es {arear}.\")\n",
    "\n",
    "def area_triangulo(base,altura):\n",
    "    areat= (base*altura)/2\n",
    "    print(f\"El área del triangulo es {areat}.\")\n",
    "\n",
    "def area_circulo(radio):\n",
    "    areac= (2 * 3.14) * radio\n",
    "    print(f\"El área del círculo es {areac}.\")\n",
    "\n",
    "def area_trapecio(base_menor,base_mayor,altura):\n",
    "    areat= ((base_menor + base_mayor)/2) * altura\n",
    "    print(f\"El área del trapecio es {areat}.\")\n",
    "\n",
    "esta_ejecutandose = True\n",
    "\n",
    "while (esta_ejecutandose):\n",
    "    #Texto de información para el usuario\n",
    "    print(\"/-----------------------------------/\")\n",
    "    print(f\"Indica la operación a realizar: \")\n",
    "    print (f\"Opción 1: Área de un rectángulo\")\n",
    "    print (f\"Opción 2: Área de un triángulo\")\n",
    "    print (f\"Opción 3: Área de un círculo\")\n",
    "    print (f\"Opción 4: Área de un trapecio\")\n",
    "    print (f\"Opción 5: Salir\")\n",
    "    print(\"/-----------------------------------/\")\n",
    "    #fin del texto de información\n",
    "    \n",
    "    opcion = int(input(f\"La opción elegida es: \"))\n",
    "\n",
    "    if (opcion == 1):\n",
    "        base= int(input(f\"Indique la base: \"))\n",
    "        altura= int(input(f\"Indique la altura: \"))\n",
    "        area_rectangulo(base,altura)\n",
    "    \n",
    "    elif (opcion == 2):\n",
    "        base= int(input(f\"Indique la base: \"))\n",
    "        altura= int(input(f\"Indique la altura: \"))\n",
    "        area_triangulo(base,altura)\n",
    "    \n",
    "    elif (opcion == 3):\n",
    "        radio= int(input(f\"Indique el radio: \"))\n",
    "        area_circulo(radio)\n",
    "    \n",
    "    elif (opcion == 4):\n",
    "        base_menor= int(input(f\"Indique la base menor: \"))\n",
    "        base_mayor= int(input(f\"Indique la base mayor: \"))\n",
    "        altura= int(input(f\"Indique la altura: \"))\n",
    "        area_trapecio(base_menor, base_mayor, altura)\n",
    "        \n",
    "    elif (opcion == 5): \n",
    "        esta_ejecutandose = False\n",
    "        print(f\"El programa ha terminado\")\n",
    "    "
   ]
  }
 ],
 "metadata": {
  "interpreter": {
   "hash": "fdabe4b589a1a162d6538830c2ce3df836d188c84531d91888910694a18e7d47"
  },
  "kernelspec": {
   "display_name": "Python 3.10.0 64-bit",
   "language": "python",
   "name": "python3"
  },
  "language_info": {
   "codemirror_mode": {
    "name": "ipython",
    "version": 3
   },
   "file_extension": ".py",
   "mimetype": "text/x-python",
   "name": "python",
   "nbconvert_exporter": "python",
   "pygments_lexer": "ipython3",
   "version": "3.10.0"
  },
  "orig_nbformat": 4
 },
 "nbformat": 4,
 "nbformat_minor": 2
}
